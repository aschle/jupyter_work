{
 "cells": [
  {
   "cell_type": "markdown",
   "metadata": {
    "collapsed": true
   },
   "source": [
    "# Lab3 - Second part: Machine learning in Spark\n",
    "## Challenge - Linear Classification Methods"
   ]
  },
  {
   "cell_type": "markdown",
   "metadata": {},
   "source": [
    "Repeat this task, trying out at least two additional linear classification methods. For example you could try L1 regularized SVM, or to run SVM without regularization. Another alternative is to run Logistic Regression, with L1 or L2 regularization. Report your findings in terms of model performance."
   ]
  },
  {
   "cell_type": "code",
   "execution_count": null,
   "metadata": {
    "collapsed": true
   },
   "outputs": [],
   "source": []
  }
 ],
 "metadata": {
  "kernelspec": {
   "display_name": "Apache_Toree",
   "language": "",
   "name": "apache_toree"
  }
 },
 "nbformat": 4,
 "nbformat_minor": 0
}
