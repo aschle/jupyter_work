{
 "cells": [
  {
   "cell_type": "markdown",
   "metadata": {
    "collapsed": true
   },
   "source": [
    "# Lab3 - Second part: Machine learning in Spark\n",
    "## Challenge - Linear Classification Methods"
   ]
  },
  {
   "cell_type": "markdown",
   "metadata": {},
   "source": [
    "Repeat this task, trying out at least two additional linear classification methods. For example you could try L1 regularized SVM, or to run SVM without regularization. Another alternative is to run Logistic Regression, with L1 or L2 regularization. Report your findings in terms of model performance.\n",
    "\n",
    "## Options\n",
    "\n",
    "(A) L1 regularized SVM\n",
    "(B) SVM without regularization\n",
    "(C) Logistic Regression with L1 regularization\n",
    "(D) Logistic Regression with L2 regularization\n",
    "\n",
    "I will go for option A and B."
   ]
  },
  {
   "cell_type": "markdown",
   "metadata": {},
   "source": [
    "## A) L1 regularized SVM and B) SVM without regularization"
   ]
  },
  {
   "cell_type": "code",
   "execution_count": 2,
   "metadata": {
    "collapsed": false
   },
   "outputs": [
    {
     "name": "stdout",
     "output_type": "stream",
     "text": [
      "Area under ROC = 0.18181818181818177\n",
      "Area under ROC = 0.5681818181818181\n"
     ]
    }
   ],
   "source": [
    "import org.apache.spark.mllib.classification.{SVMModel, SVMWithSGD}\n",
    "import org.apache.spark.mllib.evaluation.BinaryClassificationMetrics\n",
    "import org.apache.spark.mllib.util.MLUtils\n",
    "import org.apache.spark.mllib.optimization.{L1Updater, SimpleUpdater}\n",
    "\n",
    "// Load dataset in LIBSVM format.\n",
    "val data = MLUtils.loadLibSVMFile(sc, \"toxicity.txt\")\n",
    "\n",
    "// Split data into training (80%) and test (20%).\n",
    "val splits = data.randomSplit(Array(0.8, 0.2), seed = 11L)\n",
    "val training = splits(0).cache() // caching training data\n",
    "val test = splits(1)\n",
    "\n",
    "// Run training algorithm to build the model\n",
    "// SVM using SGD (Stochastic Gradient Descent) optimization method with L1 (default is L2)\n",
    "val svmAlgA = new SVMWithSGD()\n",
    "svmAlgA.optimizer.\n",
    "  setNumIterations(100).\n",
    "  setRegParam(0.1).\n",
    "  setUpdater(new L1Updater)\n",
    "val modelA = svmAlgA.run(training)\n",
    "\n",
    "// Model without regularization\n",
    "val svmAlgB = new SVMWithSGD()\n",
    "svmAlgB.optimizer.\n",
    "  setNumIterations(100).\n",
    "  setRegParam(0.1).\n",
    "  setUpdater(new SimpleUpdater)\n",
    "val modelB = svmAlgB.run(training)\n",
    "\n",
    "\n",
    "// Clear the default threshold.\n",
    "modelA.clearThreshold()\n",
    "modelB.clearThreshold()\n",
    "\n",
    "// Compute raw scores on the test set.\n",
    "// Compute distance from hyperplane for each test example\n",
    "val scoreAndLabelsA = test.map { point =>\n",
    "  val score = modelA.predict(point.features)\n",
    "  (score, point.label)\n",
    "}\n",
    "\n",
    "val scoreAndLabelsB = test.map { point =>\n",
    "  val score = modelB.predict(point.features)\n",
    "  (score, point.label)\n",
    "}\n",
    "\n",
    "\n",
    "// Get evaluation metrics.\n",
    "// Compute the area under the ROC curve using the MLlib primitive\n",
    "val metricsA = new BinaryClassificationMetrics(scoreAndLabelsA)\n",
    "val auROCA = metricsA.areaUnderROC()\n",
    "\n",
    "val metricsB = new BinaryClassificationMetrics(scoreAndLabelsB)\n",
    "val auROCB = metricsB.areaUnderROC()\n",
    "\n",
    "println(\"Area under ROC = \" + auROCA)\n",
    "println(\"Area under ROC = \" + auROCB)"
   ]
  },
  {
   "cell_type": "markdown",
   "metadata": {
    "collapsed": true
   },
   "source": [
    "Both models seem to perform not very good. The value for using SVM with L1 is `0.182` and for SVM without regularization the ROC is `0.568`, so very close to random."
   ]
  },
  {
   "cell_type": "code",
   "execution_count": null,
   "metadata": {
    "collapsed": true
   },
   "outputs": [],
   "source": []
  }
 ],
 "metadata": {
  "kernelspec": {
   "display_name": "Apache_Toree",
   "language": "",
   "name": "apache_toree"
  },
  "language_info": {
   "name": "scala"
  }
 },
 "nbformat": 4,
 "nbformat_minor": 0
}
