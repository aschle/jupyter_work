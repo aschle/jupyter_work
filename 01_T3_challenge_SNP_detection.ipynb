{
 "cells": [
  {
   "cell_type": "markdown",
   "metadata": {},
   "source": [
    "# Lab3 - First part: Spark development basics\n",
    "## Challenge - SNP Detection"
   ]
  },
  {
   "cell_type": "code",
   "execution_count": 9,
   "metadata": {
    "collapsed": false
   },
   "outputs": [
    {
     "name": "stdout",
     "output_type": "stream",
     "text": [
      "Position: 98\n"
     ]
    }
   ],
   "source": [
    "val len = 30\n",
    "val reference = \"ATGGCGTAGATCTGGATTGACTGTATGACGGTACCTGCTGATCGGTAGGGAGACCGAGAATCTATCGGGCTATGTCACTAAAACTTTCCAAACGCCCCGT\"\n",
    "val referenceMap = reference.zipWithIndex.map(_.swap)\n",
    "val broadcastVar = sc.broadcast(referenceMap)\n",
    "\n",
    "val rdd0 = sc.textFile(\"samples.txt\")\n",
    "\n",
    "val rdd1 = rdd0.flatMap(seq =>\n",
    "  seq.zipWithIndex\n",
    "  .map(_.swap)\n",
    "  .map { elem =>\n",
    "    if (elem._2 == broadcastVar.value(elem._1)._2) (elem._1,1) else (elem._1,0)\n",
    "  }\n",
    ")\n",
    "\n",
    "val rdd2 = rdd1.reduceByKey((a, b) => a + b)\n",
    "\n",
    "rdd2.collect().foreach(element =>\n",
    "  if ((element._2*100.0f/30) <= (200.0f/3)) println(\"Position: \" + element._1))"
   ]
  },
  {
   "cell_type": "markdown",
   "metadata": {
    "collapsed": true
   },
   "source": [
    "The position of the SPN is 98.\n",
    "\n",
    "For making the reference genome available in every worker node `val broadcastVar = sc.broadcast(v)` was used in the driver programm. To access the variable `broadcastVar.value` is used in the workers."
   ]
  },
  {
   "cell_type": "code",
   "execution_count": null,
   "metadata": {
    "collapsed": true
   },
   "outputs": [],
   "source": []
  }
 ],
 "metadata": {
  "kernelspec": {
   "display_name": "Apache_Toree",
   "language": "",
   "name": "apache_toree"
  },
  "language_info": {
   "name": "scala"
  }
 },
 "nbformat": 4,
 "nbformat_minor": 0
}
