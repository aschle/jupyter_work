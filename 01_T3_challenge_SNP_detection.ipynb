{
 "cells": [
  {
   "cell_type": "markdown",
   "metadata": {},
   "source": [
    "# Lab3 - First part: Spark development basics\n",
    "## Challenge - SNP Detection"
   ]
  },
  {
   "cell_type": "markdown",
   "metadata": {},
   "source": [
    "`ATGGCGTAGATCTGGATTGACTGTATGACGGTACCTGCTGATCGGTAGGGAGACCGAGAATCTATCGGGCTATGTCACTAAAACTTTCCAAACGCCCCGT`\n",
    "\n",
    "`ATGGC`\n",
    "\n",
    "`-----`\n",
    "\n",
    "`ATGGC\n",
    "ATGGC\n",
    "ATGGC\n",
    "ATGGA\n",
    "ATGGC\n",
    "`"
   ]
  },
  {
   "cell_type": "code",
   "execution_count": 4,
   "metadata": {
    "collapsed": false
   },
   "outputs": [
    {
     "data": {
      "text/plain": [
       "ATGGC"
      ]
     },
     "execution_count": 4,
     "metadata": {},
     "output_type": "execute_result"
    }
   ],
   "source": [
    "val reference = \"ATGGC\"\n",
    "reference"
   ]
  },
  {
   "cell_type": "code",
   "execution_count": 5,
   "metadata": {
    "collapsed": true
   },
   "outputs": [],
   "source": [
    "val rdd0 = sc.textFile(\"samples.txt\")"
   ]
  },
  {
   "cell_type": "code",
   "execution_count": 22,
   "metadata": {
    "collapsed": false
   },
   "outputs": [
    {
     "data": {
      "text/plain": [
       "(0,A)"
      ]
     },
     "execution_count": 22,
     "metadata": {},
     "output_type": "execute_result"
    }
   ],
   "source": [
    "val ref = \"ATGGC\".zipWithIndex.map(_.swap)\n",
    "ref(0)"
   ]
  },
  {
   "cell_type": "code",
   "execution_count": 38,
   "metadata": {
    "collapsed": false
   },
   "outputs": [],
   "source": [
    "val rdd1 = rdd0.flatMap(seq =>\n",
    "    seq.zipWithIndex\n",
    "      .map(_.swap)\n",
    "      .map { elem =>\n",
    "        val ref = \"ATGGC\".zipWithIndex.map(_.swap)\n",
    "        if (elem._2 == ref(elem._1)._2) (elem._1,1) else (elem._1,0)\n",
    "      }\n",
    "    )\n",
    "val rdd2 = rdd1.reduceByKey((a, b) => a + b)"
   ]
  },
  {
   "cell_type": "code",
   "execution_count": 39,
   "metadata": {
    "collapsed": false
   },
   "outputs": [
    {
     "name": "stdout",
     "output_type": "stream",
     "text": [
      "\r",
      "                                                                                \r",
      "(4,4)\n",
      "(0,5)\n",
      "(2,5)\n",
      "(1,5)\n",
      "(3,5)\n"
     ]
    }
   ],
   "source": [
    "rdd2.collect().foreach(println)"
   ]
  },
  {
   "cell_type": "code",
   "execution_count": null,
   "metadata": {
    "collapsed": true
   },
   "outputs": [],
   "source": [
    "\n",
    "  .groupByKey\n",
    "  .map(pair =>\n",
    "    (pair._1,mostFrequentResidue(pair._2))\n",
    "  )\n",
    "  .sortByKey\n",
    "  .saveAsTextFile(\"consensus.txt\")\n",
    "}"
   ]
  }
 ],
 "metadata": {
  "kernelspec": {
   "display_name": "Apache_Toree",
   "language": "",
   "name": "apache_toree"
  },
  "language_info": {
   "name": "scala"
  }
 },
 "nbformat": 4,
 "nbformat_minor": 0
}
